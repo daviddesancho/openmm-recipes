{
 "cells": [
  {
   "cell_type": "markdown",
   "metadata": {},
   "source": [
    "# AlaTB example for ff03-star force field "
   ]
  },
  {
   "cell_type": "code",
   "execution_count": 58,
   "metadata": {},
   "outputs": [],
   "source": [
    "from simtk.openmm.app import *\n",
    "from simtk.openmm import *\n",
    "from simtk.unit import *\n",
    "from sys import stdout"
   ]
  },
  {
   "cell_type": "markdown",
   "metadata": {},
   "source": [
    "### Read GMX files\n",
    "Read topology and coordinates from GMX files"
   ]
  },
  {
   "cell_type": "code",
   "execution_count": 59,
   "metadata": {},
   "outputs": [],
   "source": [
    "gro = GromacsGroFile('alaTB_ff03-star_tip3p_solv.gro')"
   ]
  },
  {
   "cell_type": "code",
   "execution_count": 60,
   "metadata": {},
   "outputs": [],
   "source": [
    "top = GromacsTopFile('alaTB_ff03-star_tip3p.top', \\\n",
    "        periodicBoxVectors=gro.getPeriodicBoxVectors(),\n",
    "        includeDir='.')"
   ]
  },
  {
   "cell_type": "markdown",
   "metadata": {},
   "source": [
    "### Simulation workflow\n",
    "Here we will start with a standard simulation workflow, by first energy minimizing, then running short NVT with constraints, followed by a short NPT run and a production run."
   ]
  },
  {
   "cell_type": "code",
   "execution_count": 61,
   "metadata": {},
   "outputs": [],
   "source": [
    "system = top.createSystem(nonbondedMethod=PME, \\\n",
    "        nonbondedCutoff=1*nanometer,\n",
    "        constraints=HBonds)"
   ]
  },
  {
   "cell_type": "markdown",
   "metadata": {},
   "source": [
    "#### Defining position restraints\n",
    "We add position restraints in the heavy atoms using the ```CustomExternalForce``` function."
   ]
  },
  {
   "cell_type": "code",
   "execution_count": 62,
   "metadata": {
    "scrolled": false
   },
   "outputs": [
    {
     "data": {
      "text/plain": [
       "5"
      ]
     },
     "execution_count": 62,
     "metadata": {},
     "output_type": "execute_result"
    }
   ],
   "source": [
    "force = CustomExternalForce(\\\n",
    "            \"k*((x - x0)^2 + (y - y0)^2 + (z - z0)^2)\")\n",
    "#force.addGlobalParameter(\"k\", 1000.0*kilojoules_per_mole/nanometer**2)\n",
    "force.addPerParticleParameter(\"k\")\n",
    "force.addPerParticleParameter(\"x0\")\n",
    "force.addPerParticleParameter(\"y0\")\n",
    "force.addPerParticleParameter(\"z0\")\n",
    "for i, atom_crd in enumerate(gro.positions):\n",
    "    k = 1000.0*kilojoules_per_mole/nanometer**2\n",
    "    x0 = atom_crd[0]\n",
    "    y0 = atom_crd[1]\n",
    "    z0 = atom_crd[2]\n",
    "    if (gro.atomNames[i][0] in ('C', 'N', 'O')) \\\n",
    "            and (gro.atomNames[i][0] not in ('OW')):\n",
    "        force.addParticle(i,[k, x0, y0, z0])\n",
    "    else:\n",
    "        force.addParticle(i,[0., x0, y0, z0])\n",
    "system.addForce(force)"
   ]
  },
  {
   "cell_type": "markdown",
   "metadata": {},
   "source": [
    "Next we generate the integrator with a ```LangevinIntegrator``` object and pass it on to a ```Simulation``` object. "
   ]
  },
  {
   "cell_type": "code",
   "execution_count": 63,
   "metadata": {},
   "outputs": [],
   "source": [
    "integrator = LangevinIntegrator(300*kelvin, \\\n",
    "                        1/picosecond, \\\n",
    "                        0.002*picoseconds)"
   ]
  },
  {
   "cell_type": "code",
   "execution_count": 64,
   "metadata": {},
   "outputs": [],
   "source": [
    "nvt_posre = Simulation(top.topology, system, \\\n",
    "                        integrator)"
   ]
  },
  {
   "cell_type": "markdown",
   "metadata": {},
   "source": [
    "We use the gro file atomic positions as initial positions for the simulation."
   ]
  },
  {
   "cell_type": "code",
   "execution_count": 65,
   "metadata": {},
   "outputs": [],
   "source": [
    "nvt_posre.context.setPositions(gro.positions)"
   ]
  },
  {
   "cell_type": "markdown",
   "metadata": {},
   "source": [
    "First, we run a quick energy minimization."
   ]
  },
  {
   "cell_type": "code",
   "execution_count": 66,
   "metadata": {},
   "outputs": [],
   "source": [
    "nvt_posre.minimizeEnergy()"
   ]
  },
  {
   "cell_type": "markdown",
   "metadata": {},
   "source": [
    "We define the reporters for both time series of conformations and also for energies."
   ]
  },
  {
   "cell_type": "code",
   "execution_count": 67,
   "metadata": {},
   "outputs": [],
   "source": [
    "pdb_rep = PDBReporter('nvt_posre.pdb', 1000)\n",
    "nvt_posre.reporters.append(pdb_rep)\n",
    "state_rep = StateDataReporter(stdout, 100, \\\n",
    "                step=True, potentialEnergy=True, \\\n",
    "                temperature=True, volume=True, density=True)\n",
    "nvt_posre.reporters.append(state_rep)"
   ]
  },
  {
   "cell_type": "code",
   "execution_count": 68,
   "metadata": {},
   "outputs": [
    {
     "name": "stdout",
     "output_type": "stream",
     "text": [
      "#\"Step\",\"Potential Energy (kJ/mole)\",\"Temperature (K)\",\"Box Volume (nm^3)\",\"Density (g/mL)\"\n",
      "100,-32564.727455615124,53.46662780472935,20.679574978308164,0.9753715458022438\n",
      "200,-31748.719643115124,97.5587749863061,20.679574978308164,0.9753715458022438\n",
      "300,-31093.516518115124,133.75596590642394,20.679574978308164,0.9753715458022438\n",
      "400,-30536.008705615124,159.24645945076364,20.679574978308164,0.9753715458022438\n",
      "500,-30070.883705615124,187.03951510755937,20.679574978308164,0.9753715458022438\n",
      "600,-29675.672768115124,199.81863919402227,20.679574978308164,0.9753715458022438\n",
      "700,-29334.649330615124,220.01557161247854,20.679574978308164,0.9753715458022438\n",
      "800,-29085.461830615124,236.1042245433857,20.679574978308164,0.9753715458022438\n",
      "900,-28775.618080615124,246.18894873191113,20.679574978308164,0.9753715458022438\n",
      "1000,-28585.493080615124,257.26036809206414,20.679574978308164,0.9753715458022438\n"
     ]
    }
   ],
   "source": [
    "nvt_posre.step(1000)"
   ]
  },
  {
   "cell_type": "markdown",
   "metadata": {},
   "source": [
    "#### NPT run\n",
    "First we remove the position restrains from the system, because we have already equilibrated the water."
   ]
  },
  {
   "cell_type": "code",
   "execution_count": 69,
   "metadata": {},
   "outputs": [],
   "source": [
    "nforces = len(system.getForces())\n",
    "system.removeForce(nforces-1)"
   ]
  },
  {
   "cell_type": "code",
   "execution_count": 70,
   "metadata": {},
   "outputs": [],
   "source": [
    "state = nvt_posre.context.getState(getPositions=True, \\\n",
    "                    getVelocities=True)\n"
   ]
  },
  {
   "cell_type": "code",
   "execution_count": 71,
   "metadata": {},
   "outputs": [],
   "source": [
    "barostat = MonteCarloBarostat(1.0*bar, 300.0*kelvin, 25)"
   ]
  },
  {
   "cell_type": "code",
   "execution_count": 72,
   "metadata": {},
   "outputs": [
    {
     "data": {
      "text/plain": [
       "5"
      ]
     },
     "execution_count": 72,
     "metadata": {},
     "output_type": "execute_result"
    }
   ],
   "source": [
    "system.addForce(barostat)"
   ]
  },
  {
   "cell_type": "code",
   "execution_count": 73,
   "metadata": {},
   "outputs": [],
   "source": [
    "integrator = LangevinIntegrator(300*kelvin, \\\n",
    "                        10/picosecond, \\\n",
    "                        0.002*picoseconds)"
   ]
  },
  {
   "cell_type": "code",
   "execution_count": 74,
   "metadata": {},
   "outputs": [
    {
     "name": "stdout",
     "output_type": "stream",
     "text": [
      "100,-27794.835019047256,285.15907690592434,20.67153902870408,0.9757507162440984\n",
      "200,-27301.565547821316,296.53725142228103,20.55314093775467,0.9813716100235793\n",
      "300,-27295.062997171015,294.98063670429536,20.444035258433864,0.9866089917255894\n",
      "400,-27107.291680844937,294.03844084792354,20.35821239269016,0.990768178662297\n",
      "500,-27021.336777037475,294.37536211983576,20.301945314577473,0.993514104219506\n",
      "600,-26914.303310746007,299.5417562039174,20.256755953902683,0.9957304643955003\n",
      "700,-26764.788525876706,297.6433916026792,20.47422710937537,0.9851541113310035\n",
      "800,-26757.90499461838,300.1056227778029,20.603584591944777,0.9789689227675288\n",
      "900,-26932.02999461838,309.6063102656108,20.603584591944777,0.9789689227675288\n",
      "1000,-26812.275182014244,300.28889858604714,20.60997275225287,0.9786654866353973\n"
     ]
    }
   ],
   "source": [
    "npt = Simulation(top.topology, system, \\\n",
    "                        integrator)\n",
    "pdb_rep = PDBReporter('npt.pdb', 1000)\n",
    "nvt_posre.reporters.append(pdb_rep)\n",
    "\n",
    "npt.context.setState(state)\n",
    "npt.reporters.append(state_rep)\n",
    "npt.step(1000)"
   ]
  },
  {
   "cell_type": "markdown",
   "metadata": {},
   "source": [
    "### Production NVT"
   ]
  },
  {
   "cell_type": "code",
   "execution_count": 75,
   "metadata": {},
   "outputs": [],
   "source": [
    "nforces = len(system.getForces())\n",
    "system.removeForce(nforces-1)"
   ]
  },
  {
   "cell_type": "code",
   "execution_count": 76,
   "metadata": {},
   "outputs": [],
   "source": [
    "state = npt.context.getState(getPositions=True, \\\n",
    "                    getVelocities=True)"
   ]
  },
  {
   "cell_type": "code",
   "execution_count": 77,
   "metadata": {},
   "outputs": [],
   "source": [
    "integrator = LangevinIntegrator(300*kelvin, \\\n",
    "                        10/picosecond, \\\n",
    "                        0.002*picoseconds)"
   ]
  },
  {
   "cell_type": "code",
   "execution_count": 78,
   "metadata": {},
   "outputs": [],
   "source": [
    "\n",
    "platform = Platform.getPlatformByName('CPU')\n",
    "properties = {'CpuThreads': '1'}"
   ]
  },
  {
   "cell_type": "code",
   "execution_count": 79,
   "metadata": {},
   "outputs": [],
   "source": [
    "nvt = Simulation(top.topology, system, \\\n",
    "                integrator, platform, \\\n",
    "                properties)\n",
    "dcd_rep = DCDReporter('nvt.dcd', 1000)\n",
    "nvt.reporters.append(dcd_rep)\n",
    "#pdb_rep = PDBReporter('nvt.pdb', 1000)\n",
    "#nvt.reporters.append(pdb_rep)\n",
    "state_rep = StateDataReporter(\"nvt.txt\", 100, \\\n",
    "                step=True, potentialEnergy=True, \\\n",
    "                temperature=True, volume=True, density=True)\n",
    "nvt.reporters.append(state_rep)\n",
    "\n",
    "nvt.context.setState(state)\n",
    "nvt.step(10000)"
   ]
  },
  {
   "cell_type": "code",
   "execution_count": null,
   "metadata": {},
   "outputs": [],
   "source": []
  }
 ],
 "metadata": {
  "kernelspec": {
   "display_name": "Python 3",
   "language": "python",
   "name": "python3"
  },
  "language_info": {
   "codemirror_mode": {
    "name": "ipython",
    "version": 3
   },
   "file_extension": ".py",
   "mimetype": "text/x-python",
   "name": "python",
   "nbconvert_exporter": "python",
   "pygments_lexer": "ipython3",
   "version": "3.6.5"
  }
 },
 "nbformat": 4,
 "nbformat_minor": 2
}
