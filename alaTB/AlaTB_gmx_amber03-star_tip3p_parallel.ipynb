{
 "cells": [
  {
   "cell_type": "markdown",
   "metadata": {},
   "source": [
    "# AlaTB example for ff03-star force field - parallel \n",
    "In this example we run OpenMM simulations of the alanine dipeptide in parralel taking advantage of functionalities of the `multiprocessing` library."
   ]
  },
  {
   "cell_type": "code",
   "execution_count": 1,
   "metadata": {},
   "outputs": [],
   "source": [
    "import timeit\n",
    "from simtk.openmm.app import *\n",
    "from simtk.openmm import *\n",
    "from simtk.unit import *\n",
    "from sys import stdout\n",
    "import multiprocessing as mp\n",
    "import multiprocessing.pool as pool"
   ]
  },
  {
   "cell_type": "markdown",
   "metadata": {},
   "source": [
    "### Read GMX files\n",
    "Read topology and coordinates from GMX files"
   ]
  },
  {
   "cell_type": "code",
   "execution_count": 2,
   "metadata": {},
   "outputs": [],
   "source": [
    "gro = GromacsGroFile('alaTB_ff03-star_tip3p_solv.gro')"
   ]
  },
  {
   "cell_type": "code",
   "execution_count": 3,
   "metadata": {},
   "outputs": [],
   "source": [
    "top = GromacsTopFile('alaTB_ff03-star_tip3p.top', \\\n",
    "        periodicBoxVectors=gro.getPeriodicBoxVectors(),\n",
    "        includeDir='.')"
   ]
  },
  {
   "cell_type": "markdown",
   "metadata": {},
   "source": [
    "### Simulation workflow\n",
    "Here we will start with a standard simulation workflow, by first energy minimizing, then running short NVT with constraints, followed by a short NPT run and a production run."
   ]
  },
  {
   "cell_type": "code",
   "execution_count": 4,
   "metadata": {},
   "outputs": [],
   "source": [
    "system = top.createSystem(nonbondedMethod=PME, \\\n",
    "        nonbondedCutoff=1*nanometer,\n",
    "        constraints=HBonds)"
   ]
  },
  {
   "cell_type": "markdown",
   "metadata": {},
   "source": [
    "#### Defining position restraints\n",
    "We add position restraints in the heavy atoms using the ```CustomExternalForce``` function."
   ]
  },
  {
   "cell_type": "code",
   "execution_count": 5,
   "metadata": {
    "scrolled": false
   },
   "outputs": [
    {
     "data": {
      "text/plain": [
       "5"
      ]
     },
     "execution_count": 5,
     "metadata": {},
     "output_type": "execute_result"
    }
   ],
   "source": [
    "force = CustomExternalForce(\\\n",
    "            \"k*((x - x0)^2 + (y - y0)^2 + (z - z0)^2)\")\n",
    "force.addPerParticleParameter(\"k\")\n",
    "force.addPerParticleParameter(\"x0\")\n",
    "force.addPerParticleParameter(\"y0\")\n",
    "force.addPerParticleParameter(\"z0\")\n",
    "for i, atom_crd in enumerate(gro.positions):\n",
    "    k = 1000.0*kilojoules_per_mole/nanometer**2\n",
    "    x0 = atom_crd[0]\n",
    "    y0 = atom_crd[1]\n",
    "    z0 = atom_crd[2]\n",
    "    if (gro.atomNames[i][0] in ('C', 'N', 'O')) \\\n",
    "            and (gro.atomNames[i][0] not in ('OW')):\n",
    "        force.addParticle(i,[k, x0, y0, z0])\n",
    "    else:\n",
    "        force.addParticle(i,[0., x0, y0, z0])\n",
    "system.addForce(force)"
   ]
  },
  {
   "cell_type": "markdown",
   "metadata": {},
   "source": [
    "Next we generate the integrator with a ```LangevinIntegrator``` object and pass it on to a ```Simulation``` object. "
   ]
  },
  {
   "cell_type": "code",
   "execution_count": 6,
   "metadata": {},
   "outputs": [],
   "source": [
    "integrator = LangevinIntegrator(300*kelvin, \\\n",
    "                        1/picosecond, \\\n",
    "                        0.002*picoseconds)"
   ]
  },
  {
   "cell_type": "code",
   "execution_count": 7,
   "metadata": {},
   "outputs": [],
   "source": [
    "nvt_posre = Simulation(top.topology, system, \\\n",
    "                        integrator)"
   ]
  },
  {
   "cell_type": "markdown",
   "metadata": {},
   "source": [
    "We use the gro file atomic positions as initial positions for the simulation."
   ]
  },
  {
   "cell_type": "code",
   "execution_count": 8,
   "metadata": {},
   "outputs": [],
   "source": [
    "nvt_posre.context.setPositions(gro.positions)"
   ]
  },
  {
   "cell_type": "markdown",
   "metadata": {},
   "source": [
    "First, we run a quick energy minimization."
   ]
  },
  {
   "cell_type": "code",
   "execution_count": 9,
   "metadata": {},
   "outputs": [],
   "source": [
    "nvt_posre.minimizeEnergy()"
   ]
  },
  {
   "cell_type": "markdown",
   "metadata": {},
   "source": [
    "We define the reporters for both time series of conformations and also for energies."
   ]
  },
  {
   "cell_type": "code",
   "execution_count": 10,
   "metadata": {},
   "outputs": [],
   "source": [
    "pdb_rep = PDBReporter('nvt_posre.pdb', 1000)\n",
    "nvt_posre.reporters.append(pdb_rep)\n",
    "state_rep = StateDataReporter(stdout, 100, \\\n",
    "                step=True, potentialEnergy=True, \\\n",
    "                temperature=True, volume=True, density=True)\n",
    "nvt_posre.reporters.append(state_rep)"
   ]
  },
  {
   "cell_type": "code",
   "execution_count": 11,
   "metadata": {},
   "outputs": [
    {
     "name": "stdout",
     "output_type": "stream",
     "text": [
      "#\"Step\",\"Potential Energy (kJ/mole)\",\"Temperature (K)\",\"Box Volume (nm^3)\",\"Density (g/mL)\"\n",
      "100,-32566.829018115124,56.227451694288554,20.679574978308164,0.9753715458022438\n",
      "200,-31771.602455615124,104.14565485450024,20.679574978308164,0.9753715458022438\n",
      "300,-31102.938393115124,139.17324309502564,20.679574978308164,0.9753715458022438\n",
      "400,-30565.899330615124,164.07844989658443,20.679574978308164,0.9753715458022438\n",
      "500,-30155.993080615124,184.75299337302414,20.679574978308164,0.9753715458022438\n",
      "600,-29685.727455615124,200.5334474708224,20.679574978308164,0.9753715458022438\n",
      "700,-29335.868080615124,215.95314213987598,20.679574978308164,0.9753715458022438\n",
      "800,-29164.336830615124,233.92856926006868,20.679574978308164,0.9753715458022438\n",
      "900,-28882.618080615124,242.18781913093596,20.679574978308164,0.9753715458022438\n",
      "1000,-28690.227455615124,253.1894944440967,20.679574978308164,0.9753715458022438\n"
     ]
    }
   ],
   "source": [
    "nvt_posre.step(1000)"
   ]
  },
  {
   "cell_type": "markdown",
   "metadata": {},
   "source": [
    "#### NPT run\n",
    "Next we run the NPT simulation. First we remove the position restrains from the system, because we have already equilibrated the water."
   ]
  },
  {
   "cell_type": "code",
   "execution_count": 12,
   "metadata": {},
   "outputs": [],
   "source": [
    "nforces = len(system.getForces())\n",
    "system.removeForce(nforces-1)"
   ]
  },
  {
   "cell_type": "markdown",
   "metadata": {},
   "source": [
    "We then grab positions and velocities from the previous simulation."
   ]
  },
  {
   "cell_type": "code",
   "execution_count": 13,
   "metadata": {},
   "outputs": [],
   "source": [
    "state = nvt_posre.context.getState(getPositions=True, \\\n",
    "                    getVelocities=True)"
   ]
  },
  {
   "cell_type": "markdown",
   "metadata": {},
   "source": [
    "For NPT we must define a barostat that keeps control of the pressure."
   ]
  },
  {
   "cell_type": "code",
   "execution_count": 14,
   "metadata": {},
   "outputs": [],
   "source": [
    "barostat = MonteCarloBarostat(1.0*bar, 300.0*kelvin, 25)"
   ]
  },
  {
   "cell_type": "code",
   "execution_count": 15,
   "metadata": {},
   "outputs": [
    {
     "data": {
      "text/plain": [
       "5"
      ]
     },
     "execution_count": 15,
     "metadata": {},
     "output_type": "execute_result"
    }
   ],
   "source": [
    "system.addForce(barostat)"
   ]
  },
  {
   "cell_type": "markdown",
   "metadata": {},
   "source": [
    "The remaining steps are very similar to those in the NVT simulation with position restraints."
   ]
  },
  {
   "cell_type": "code",
   "execution_count": 16,
   "metadata": {},
   "outputs": [],
   "source": [
    "integrator = LangevinIntegrator(300*kelvin, \\\n",
    "                        10/picosecond, \\\n",
    "                        0.002*picoseconds)"
   ]
  },
  {
   "cell_type": "code",
   "execution_count": 17,
   "metadata": {},
   "outputs": [
    {
     "name": "stdout",
     "output_type": "stream",
     "text": [
      "100,-27760.90020167915,283.9497725093894,20.884919935707988,0.9657814861257725\n",
      "200,-27193.08472448401,308.0644596573638,21.06613247253637,0.9574737574360904\n",
      "300,-27183.081501104054,289.54513733092733,20.80250476094031,0.9696077104617908\n",
      "400,-27084.685454163584,297.99887959502746,20.871406697106597,0.9664067834930378\n",
      "500,-26879.74494899655,304.7382879005271,20.845012201694754,0.9676304728421286\n",
      "600,-26969.105253101705,303.9223584787869,20.779907329753595,0.9706621253428377\n",
      "700,-26808.903246271046,294.81889358625637,20.81212286689072,0.9691596163510071\n",
      "800,-26714.68901268096,305.9405269794718,20.957716275136818,0.9624268574078766\n",
      "900,-26770.996415669826,309.4134659239237,20.71807538943384,0.973559012311183\n",
      "1000,-26938.94482509687,306.5914608036112,20.699352062029156,0.9744396323460834\n"
     ]
    }
   ],
   "source": [
    "npt = Simulation(top.topology, system, \\\n",
    "                        integrator)\n",
    "pdb_rep = PDBReporter('npt.pdb', 1000)\n",
    "nvt_posre.reporters.append(pdb_rep)\n",
    "\n",
    "npt.context.setState(state)\n",
    "npt.reporters.append(state_rep)\n",
    "npt.step(1000)"
   ]
  },
  {
   "cell_type": "markdown",
   "metadata": {},
   "source": [
    "We save the coordinates of the final step in `xml` format."
   ]
  },
  {
   "cell_type": "code",
   "execution_count": 18,
   "metadata": {},
   "outputs": [],
   "source": [
    "npt.saveState(\"npt.xml\")"
   ]
  },
  {
   "cell_type": "markdown",
   "metadata": {},
   "source": [
    "### Production NVT\n",
    "This is the part we are changing here. Instead of simply running a simulation we are generating inputs for two identical runs. Again, we first remove the last force added, in this case the barostat."
   ]
  },
  {
   "cell_type": "code",
   "execution_count": 19,
   "metadata": {},
   "outputs": [],
   "source": [
    "nforces = len(system.getForces())\n",
    "system.removeForce(nforces-1)"
   ]
  },
  {
   "cell_type": "markdown",
   "metadata": {},
   "source": [
    "Here is where things change. We are starting one of the runs from the coordinates corresponding to the `xml` file we saved (`npt.xml`), and the other one from the `State` class object we kept in `npt`. For the former we only need the coordinates of the `xml` file, which we read from `mdtraj`."
   ]
  },
  {
   "cell_type": "code",
   "execution_count": 21,
   "metadata": {},
   "outputs": [],
   "source": [
    "import mdtraj as md\n",
    "traj = md.load_xml(\"npt.xml\", top='alaTB_ff03-star_tip3p_solv.gro')\n",
    "last_frame = traj[-1].xyz[0]"
   ]
  },
  {
   "cell_type": "markdown",
   "metadata": {},
   "source": [
    "Now comes the `multiprocessing` stuff, which is fairly simple. We just need to open a `ThreadPool` for whichever number of processes we want (here it is fixed as the number of processors). Then we prepare the runs using the `prepare_runs` next"
   ]
  },
  {
   "cell_type": "code",
   "execution_count": 24,
   "metadata": {},
   "outputs": [],
   "source": [
    "def prepare_runs(init):\n",
    "    \"\"\"\n",
    "    Prepares runs for OpenMM\n",
    "    \n",
    "    Parameters\n",
    "    ----------\n",
    "    init : list\n",
    "        List containing indexes and npt input for runs.\n",
    "        init[0] : index\n",
    "        init[1] : initial state or configuration\n",
    " \n",
    "    Returns\n",
    "    -------\n",
    "    nvt : \n",
    "        Simulation object with all information to simply be run.\n",
    "    \n",
    "    \"\"\"\n",
    "    ind = init[0]\n",
    "    npt = init[1]\n",
    "    \n",
    "    integrator = LangevinIntegrator(300*kelvin, \\\n",
    "                        10/picosecond, \\\n",
    "                        0.002*picoseconds)\n",
    "    \n",
    "    nvt = Simulation(top.topology, system, \\\n",
    "                        integrator)\n",
    "    \n",
    "    try:\n",
    "        state = npt.context.getState(getPositions=True, \\\n",
    "                    getVelocities=True)   \n",
    "        nvt.context.setState(state)\n",
    "    except AttributeError as e:\n",
    "        nvt.context.setPositions(npt)\n",
    "        nvt.context.setVelocitiesToTemperature(300*kelvin)\n",
    "\n",
    "    dcd_rep = DCDReporter('nvt%i.dcd'%ind, 1000)\n",
    "    nvt.reporters.append(dcd_rep)\n",
    "    state_rep = StateDataReporter(\"nvt%i.txt\"%init[0], 100, \\\n",
    "                step=True, potentialEnergy=True, \\\n",
    "                temperature=True, volume=True, density=True)\n",
    "    nvt.reporters.append(state_rep)\n",
    "\n",
    "    return nvt"
   ]
  },
  {
   "cell_type": "code",
   "execution_count": 25,
   "metadata": {},
   "outputs": [],
   "source": [
    "nproc = mp.cpu_count()"
   ]
  },
  {
   "cell_type": "code",
   "execution_count": 26,
   "metadata": {},
   "outputs": [],
   "source": [
    "tpool = pool.ThreadPool(processes=nproc)\n",
    "mpinput = [(i,x) for i,x in enumerate([npt, last_frame])]\n",
    "result = tpool.map(prepare_runs, mpinput)\n",
    "tpool.close()\n",
    "tpool.join()"
   ]
  },
  {
   "cell_type": "markdown",
   "metadata": {},
   "source": [
    "`result` contains the output, which here are two `Simulation` objects that we need to run."
   ]
  },
  {
   "cell_type": "code",
   "execution_count": 71,
   "metadata": {},
   "outputs": [],
   "source": [
    "def do_run(x):\n",
    "    \"\"\"\n",
    "    Run the simulation\n",
    "    \n",
    "    Parameters:\n",
    "    ----------\n",
    "    x : simtk.openmm.app.simulation.Simulation\n",
    "        Simulation object from OpenMM\n",
    "\n",
    "    Returns:\n",
    "    --------\n",
    "    elapsed : float\n",
    "        Elapsed time between beginning and end.\n",
    "    \n",
    "    \"\"\"\n",
    "    start = timeit.timeit()\n",
    "    x.step(10000)\n",
    "    end = timeit.timeit()\n",
    "    elapsed = end-start\n",
    "    return elapsed"
   ]
  },
  {
   "cell_type": "code",
   "execution_count": 72,
   "metadata": {},
   "outputs": [
    {
     "name": "stdout",
     "output_type": "stream",
     "text": [
      "0.01712620099715423 0.016089388998807408\n",
      "0.011813154997071251 0.015181976996245794\n"
     ]
    }
   ],
   "source": [
    "tpool = pool.ThreadPool(processes=nproc)\n",
    "elapsed = tpool.map(do_run, result)\n",
    "tpool.close()\n",
    "tpool.join()"
   ]
  },
  {
   "cell_type": "code",
   "execution_count": 27,
   "metadata": {},
   "outputs": [
    {
     "data": {
      "text/plain": [
       "[<simtk.openmm.app.simulation.Simulation at 0x10dfe8208>,\n",
       " <simtk.openmm.app.simulation.Simulation at 0x10dfe8f28>]"
      ]
     },
     "execution_count": 27,
     "metadata": {},
     "output_type": "execute_result"
    }
   ],
   "source": [
    "result"
   ]
  },
  {
   "cell_type": "code",
   "execution_count": null,
   "metadata": {},
   "outputs": [],
   "source": []
  }
 ],
 "metadata": {
  "kernelspec": {
   "display_name": "Python 3",
   "language": "python",
   "name": "python3"
  },
  "language_info": {
   "codemirror_mode": {
    "name": "ipython",
    "version": 3
   },
   "file_extension": ".py",
   "mimetype": "text/x-python",
   "name": "python",
   "nbconvert_exporter": "python",
   "pygments_lexer": "ipython3",
   "version": "3.6.5"
  }
 },
 "nbformat": 4,
 "nbformat_minor": 2
}
