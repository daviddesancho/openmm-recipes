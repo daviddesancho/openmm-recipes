{
 "cells": [
  {
   "cell_type": "markdown",
   "metadata": {},
   "source": [
    "# AlaTB example for ff03-star force field "
   ]
  },
  {
   "cell_type": "code",
   "execution_count": 1,
   "metadata": {},
   "outputs": [],
   "source": [
    "from simtk.openmm.app import *\n",
    "from simtk.openmm import *\n",
    "from simtk.unit import *\n",
    "from sys import stdout"
   ]
  },
  {
   "cell_type": "markdown",
   "metadata": {},
   "source": [
    "### Read GMX files\n",
    "Read topology and coordinates from GMX files"
   ]
  },
  {
   "cell_type": "code",
   "execution_count": 2,
   "metadata": {},
   "outputs": [],
   "source": [
    "gro = GromacsGroFile('alaTB_ff03-star_tip3p_solv.gro')"
   ]
  },
  {
   "cell_type": "code",
   "execution_count": 3,
   "metadata": {},
   "outputs": [],
   "source": [
    "top = GromacsTopFile('alaTB_ff03-star_tip3p.top', \\\n",
    "        periodicBoxVectors=gro.getPeriodicBoxVectors(),\n",
    "        includeDir='.')"
   ]
  },
  {
   "cell_type": "markdown",
   "metadata": {},
   "source": [
    "### Simulation workflow\n",
    "Here we will start with a standard simulation workflow, by first energy minimizing, then running short NVT with constraints, followed by a short NPT run and a production run."
   ]
  },
  {
   "cell_type": "code",
   "execution_count": 4,
   "metadata": {},
   "outputs": [],
   "source": [
    "system = top.createSystem(nonbondedMethod=PME, \\\n",
    "        nonbondedCutoff=1*nanometer,\n",
    "        constraints=HBonds)"
   ]
  },
  {
   "cell_type": "markdown",
   "metadata": {},
   "source": [
    "#### Defining position restraints\n",
    "We add position restraints in the heavy atoms using the ```CustomExternalForce``` function."
   ]
  },
  {
   "cell_type": "code",
   "execution_count": 5,
   "metadata": {
    "scrolled": false
   },
   "outputs": [
    {
     "data": {
      "text/plain": [
       "5"
      ]
     },
     "execution_count": 5,
     "metadata": {},
     "output_type": "execute_result"
    }
   ],
   "source": [
    "force = CustomExternalForce(\\\n",
    "            \"k*((x - x0)^2 + (y - y0)^2 + (z - z0)^2)\")\n",
    "#force.addGlobalParameter(\"k\", 1000.0*kilojoules_per_mole/nanometer**2)\n",
    "force.addPerParticleParameter(\"k\")\n",
    "force.addPerParticleParameter(\"x0\")\n",
    "force.addPerParticleParameter(\"y0\")\n",
    "force.addPerParticleParameter(\"z0\")\n",
    "for i, atom_crd in enumerate(gro.positions):\n",
    "    k = 1000.0*kilojoules_per_mole/nanometer**2\n",
    "    x0 = atom_crd[0]\n",
    "    y0 = atom_crd[1]\n",
    "    z0 = atom_crd[2]\n",
    "    if (gro.atomNames[i][0] in ('C', 'N', 'O')) \\\n",
    "            and (gro.atomNames[i][0] not in ('OW')):\n",
    "        force.addParticle(i,[k, x0, y0, z0])\n",
    "    else:\n",
    "        force.addParticle(i,[0., x0, y0, z0])\n",
    "system.addForce(force)"
   ]
  },
  {
   "cell_type": "markdown",
   "metadata": {},
   "source": [
    "Next we generate the integrator with a ```LangevinIntegrator``` object and pass it on to a ```Simulation``` object. "
   ]
  },
  {
   "cell_type": "code",
   "execution_count": 6,
   "metadata": {},
   "outputs": [],
   "source": [
    "integrator = LangevinIntegrator(300*kelvin, \\\n",
    "                        1/picosecond, \\\n",
    "                        0.002*picoseconds)"
   ]
  },
  {
   "cell_type": "code",
   "execution_count": 7,
   "metadata": {},
   "outputs": [],
   "source": [
    "nvt_posre = Simulation(top.topology, system, \\\n",
    "                        integrator)"
   ]
  },
  {
   "cell_type": "markdown",
   "metadata": {},
   "source": [
    "We use the gro file atomic positions as initial positions for the simulation."
   ]
  },
  {
   "cell_type": "code",
   "execution_count": 8,
   "metadata": {},
   "outputs": [],
   "source": [
    "nvt_posre.context.setPositions(gro.positions)"
   ]
  },
  {
   "cell_type": "markdown",
   "metadata": {},
   "source": [
    "First, we run a quick energy minimization."
   ]
  },
  {
   "cell_type": "code",
   "execution_count": 9,
   "metadata": {},
   "outputs": [],
   "source": [
    "nvt_posre.minimizeEnergy()"
   ]
  },
  {
   "cell_type": "markdown",
   "metadata": {},
   "source": [
    "We define the reporters for both time series of conformations and also for energies."
   ]
  },
  {
   "cell_type": "code",
   "execution_count": 10,
   "metadata": {},
   "outputs": [],
   "source": [
    "pdb_rep = PDBReporter('nvt_posre.pdb', 1000)\n",
    "nvt_posre.reporters.append(pdb_rep)\n",
    "state_rep = StateDataReporter(stdout, 100, \\\n",
    "                step=True, potentialEnergy=True, \\\n",
    "                temperature=True, volume=True, density=True)\n",
    "nvt_posre.reporters.append(state_rep)"
   ]
  },
  {
   "cell_type": "code",
   "execution_count": 11,
   "metadata": {},
   "outputs": [
    {
     "name": "stdout",
     "output_type": "stream",
     "text": [
      "#\"Step\",\"Potential Energy (kJ/mole)\",\"Temperature (K)\",\"Box Volume (nm^3)\",\"Density (g/mL)\"\n",
      "100,-32543.243080615124,52.44992245496462,20.679574978308164,0.9753715458022438\n",
      "200,-31801.852455615124,97.84968905979615,20.679574978308164,0.9753715458022438\n",
      "300,-31191.157143115124,132.1234598921222,20.679574978308164,0.9753715458022438\n",
      "400,-30649.461830615124,161.63770216356016,20.679574978308164,0.9753715458022438\n",
      "500,-30220.586830615124,195.73313648944534,20.679574978308164,0.9753715458022438\n",
      "600,-29750.946205615124,211.51257211366456,20.679574978308164,0.9753715458022438\n",
      "700,-29295.071205615124,220.41341649378478,20.679574978308164,0.9753715458022438\n",
      "800,-29032.883705615124,238.60597043262285,20.679574978308164,0.9753715458022438\n",
      "900,-28695.204018115124,247.2974384165462,20.679574978308164,0.9753715458022438\n",
      "1000,-28468.758705615124,256.6906649532725,20.679574978308164,0.9753715458022438\n"
     ]
    }
   ],
   "source": [
    "nvt_posre.step(1000)"
   ]
  },
  {
   "cell_type": "markdown",
   "metadata": {},
   "source": [
    "#### NPT run\n",
    "First we remove the position restrains from the system, because we have already equilibrated the water."
   ]
  },
  {
   "cell_type": "code",
   "execution_count": 12,
   "metadata": {},
   "outputs": [],
   "source": [
    "nforces = len(system.getForces())\n",
    "system.removeForce(nforces-1)"
   ]
  },
  {
   "cell_type": "code",
   "execution_count": 13,
   "metadata": {},
   "outputs": [],
   "source": [
    "state = nvt_posre.context.getState(getPositions=True, \\\n",
    "                    getVelocities=True)\n"
   ]
  },
  {
   "cell_type": "code",
   "execution_count": 14,
   "metadata": {},
   "outputs": [],
   "source": [
    "barostat = MonteCarloBarostat(1.0*bar, 300.0*kelvin, 25)"
   ]
  },
  {
   "cell_type": "code",
   "execution_count": 15,
   "metadata": {},
   "outputs": [
    {
     "data": {
      "text/plain": [
       "5"
      ]
     },
     "execution_count": 15,
     "metadata": {},
     "output_type": "execute_result"
    }
   ],
   "source": [
    "system.addForce(barostat)"
   ]
  },
  {
   "cell_type": "code",
   "execution_count": 16,
   "metadata": {},
   "outputs": [],
   "source": [
    "integrator = LangevinIntegrator(300*kelvin, \\\n",
    "                        10/picosecond, \\\n",
    "                        0.002*picoseconds)"
   ]
  },
  {
   "cell_type": "code",
   "execution_count": 17,
   "metadata": {},
   "outputs": [
    {
     "name": "stdout",
     "output_type": "stream",
     "text": [
      "100,-27480.11390637525,288.8583277164115,20.569412992987576,0.9805952663793656\n",
      "200,-27219.089247830037,291.45984945987595,20.81380538584496,0.9690812727038957\n",
      "300,-27053.487926936505,293.10864512971654,21.058021981813532,0.9578425281607934\n",
      "400,-26985.222066347662,300.8917173011164,20.69588002741621,0.9746031087542985\n",
      "500,-26927.01545281656,300.16015974727213,20.631099146019988,0.977663326145032\n",
      "600,-26772.378134201543,297.2890941826952,20.537992991754926,0.9820954277870911\n",
      "700,-26857.422174217383,297.78211605837504,20.56740236399136,0.9806911274531775\n",
      "800,-26589.385887478245,291.2499369362035,20.56967004885076,0.9805830120378018\n",
      "900,-27188.192164663167,305.48801024000727,20.496566740337286,0.9840803715400152\n",
      "1000,-26777.600909477012,306.64191878183414,20.45377541857738,0.986139165036786\n"
     ]
    }
   ],
   "source": [
    "npt = Simulation(top.topology, system, \\\n",
    "                        integrator)\n",
    "pdb_rep = PDBReporter('npt.pdb', 1000)\n",
    "nvt_posre.reporters.append(pdb_rep)\n",
    "\n",
    "npt.context.setState(state)\n",
    "npt.reporters.append(state_rep)\n",
    "npt.step(1000)"
   ]
  },
  {
   "cell_type": "markdown",
   "metadata": {},
   "source": [
    "### Production NVT"
   ]
  },
  {
   "cell_type": "code",
   "execution_count": 18,
   "metadata": {},
   "outputs": [],
   "source": [
    "nforces = len(system.getForces())\n",
    "system.removeForce(nforces-1)"
   ]
  },
  {
   "cell_type": "code",
   "execution_count": 19,
   "metadata": {},
   "outputs": [],
   "source": [
    "state = npt.context.getState(getPositions=True, \\\n",
    "                    getVelocities=True)"
   ]
  },
  {
   "cell_type": "code",
   "execution_count": 20,
   "metadata": {},
   "outputs": [],
   "source": [
    "integrator = LangevinIntegrator(300*kelvin, \\\n",
    "                        10/picosecond, \\\n",
    "                        0.002*picoseconds)"
   ]
  },
  {
   "cell_type": "code",
   "execution_count": 21,
   "metadata": {},
   "outputs": [],
   "source": [
    "nvt = Simulation(top.topology, system, \\\n",
    "                        integrator)\n",
    "dcd_rep = DCDReporter('nvt.dcd', 1000)\n",
    "nvt.reporters.append(dcd_rep)\n",
    "#pdb_rep = PDBReporter('nvt.pdb', 1000)\n",
    "#nvt.reporters.append(pdb_rep)\n",
    "state_rep = StateDataReporter(\"nvt.txt\", 100, \\\n",
    "                step=True, potentialEnergy=True, \\\n",
    "                temperature=True, volume=True, density=True)\n",
    "nvt.reporters.append(state_rep)\n",
    "\n",
    "nvt.context.setState(state)\n",
    "nvt.step(100000)"
   ]
  },
  {
   "cell_type": "code",
   "execution_count": null,
   "metadata": {},
   "outputs": [],
   "source": []
  }
 ],
 "metadata": {
  "kernelspec": {
   "display_name": "Python 3",
   "language": "python",
   "name": "python3"
  },
  "language_info": {
   "codemirror_mode": {
    "name": "ipython",
    "version": 3
   },
   "file_extension": ".py",
   "mimetype": "text/x-python",
   "name": "python",
   "nbconvert_exporter": "python",
   "pygments_lexer": "ipython3",
   "version": "3.6.5"
  }
 },
 "nbformat": 4,
 "nbformat_minor": 2
}
