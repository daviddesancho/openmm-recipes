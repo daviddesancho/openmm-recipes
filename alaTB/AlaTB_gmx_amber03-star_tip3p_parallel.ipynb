{
 "cells": [
  {
   "cell_type": "markdown",
   "metadata": {},
   "source": [
    "# AlaTB example for ff03-star force field - parallel \n",
    "In this example we run OpenMM simulations of the alanine dipeptide in parralel taking advantage of functionalities of the `multiprocessing` library."
   ]
  },
  {
   "cell_type": "code",
   "execution_count": 1,
   "metadata": {},
   "outputs": [],
   "source": [
    "import timeit\n",
    "from simtk.openmm.app import *\n",
    "from simtk.openmm import *\n",
    "from simtk.unit import *\n",
    "from sys import stdout\n",
    "import multiprocessing as mp\n",
    "import multiprocessing.pool as pool"
   ]
  },
  {
   "cell_type": "markdown",
   "metadata": {},
   "source": [
    "### Read GMX files\n",
    "Read topology and coordinates from GMX files"
   ]
  },
  {
   "cell_type": "code",
   "execution_count": 2,
   "metadata": {},
   "outputs": [],
   "source": [
    "gro = GromacsGroFile('alaTB_ff03-star_tip3p_solv.gro')"
   ]
  },
  {
   "cell_type": "code",
   "execution_count": 3,
   "metadata": {},
   "outputs": [],
   "source": [
    "top = GromacsTopFile('alaTB_ff03-star_tip3p.top', \\\n",
    "        periodicBoxVectors=gro.getPeriodicBoxVectors(),\n",
    "        includeDir='.')"
   ]
  },
  {
   "cell_type": "markdown",
   "metadata": {},
   "source": [
    "### Simulation workflow\n",
    "Here we will start with a standard simulation workflow, by first energy minimizing, then running short NVT with constraints, followed by a short NPT run and a production run."
   ]
  },
  {
   "cell_type": "code",
   "execution_count": 4,
   "metadata": {},
   "outputs": [],
   "source": [
    "system = top.createSystem(nonbondedMethod=PME, \\\n",
    "        nonbondedCutoff=1*nanometer,\n",
    "        constraints=HBonds)"
   ]
  },
  {
   "cell_type": "markdown",
   "metadata": {},
   "source": [
    "#### Defining position restraints\n",
    "We add position restraints in the heavy atoms using the ```CustomExternalForce``` function."
   ]
  },
  {
   "cell_type": "code",
   "execution_count": 5,
   "metadata": {
    "scrolled": false
   },
   "outputs": [
    {
     "data": {
      "text/plain": [
       "5"
      ]
     },
     "execution_count": 5,
     "metadata": {},
     "output_type": "execute_result"
    }
   ],
   "source": [
    "force = CustomExternalForce(\\\n",
    "            \"k*((x - x0)^2 + (y - y0)^2 + (z - z0)^2)\")\n",
    "force.addPerParticleParameter(\"k\")\n",
    "force.addPerParticleParameter(\"x0\")\n",
    "force.addPerParticleParameter(\"y0\")\n",
    "force.addPerParticleParameter(\"z0\")\n",
    "for i, atom_crd in enumerate(gro.positions):\n",
    "    k = 1000.0*kilojoules_per_mole/nanometer**2\n",
    "    x0 = atom_crd[0]\n",
    "    y0 = atom_crd[1]\n",
    "    z0 = atom_crd[2]\n",
    "    if (gro.atomNames[i][0] in ('C', 'N', 'O')) \\\n",
    "            and (gro.atomNames[i][0] not in ('OW')):\n",
    "        force.addParticle(i,[k, x0, y0, z0])\n",
    "    else:\n",
    "        force.addParticle(i,[0., x0, y0, z0])\n",
    "system.addForce(force)"
   ]
  },
  {
   "cell_type": "markdown",
   "metadata": {},
   "source": [
    "Next we generate the integrator with a ```LangevinIntegrator``` object and pass it on to a ```Simulation``` object. "
   ]
  },
  {
   "cell_type": "code",
   "execution_count": 6,
   "metadata": {},
   "outputs": [],
   "source": [
    "integrator = LangevinIntegrator(300*kelvin, \\\n",
    "                        1/picosecond, \\\n",
    "                        0.002*picoseconds)"
   ]
  },
  {
   "cell_type": "code",
   "execution_count": 7,
   "metadata": {},
   "outputs": [],
   "source": [
    "nvt_posre = Simulation(top.topology, system, \\\n",
    "                        integrator)"
   ]
  },
  {
   "cell_type": "markdown",
   "metadata": {},
   "source": [
    "We use the gro file atomic positions as initial positions for the simulation."
   ]
  },
  {
   "cell_type": "code",
   "execution_count": 8,
   "metadata": {},
   "outputs": [],
   "source": [
    "nvt_posre.context.setPositions(gro.positions)"
   ]
  },
  {
   "cell_type": "markdown",
   "metadata": {},
   "source": [
    "First, we run a quick energy minimization."
   ]
  },
  {
   "cell_type": "code",
   "execution_count": 9,
   "metadata": {},
   "outputs": [],
   "source": [
    "nvt_posre.minimizeEnergy()"
   ]
  },
  {
   "cell_type": "markdown",
   "metadata": {},
   "source": [
    "We define the reporters for both time series of conformations and also for energies."
   ]
  },
  {
   "cell_type": "code",
   "execution_count": 10,
   "metadata": {},
   "outputs": [],
   "source": [
    "pdb_rep = PDBReporter('nvt_posre.pdb', 1000)\n",
    "nvt_posre.reporters.append(pdb_rep)\n",
    "state_rep = StateDataReporter(stdout, 100, \\\n",
    "                step=True, potentialEnergy=True, \\\n",
    "                temperature=True, volume=True, density=True)\n",
    "nvt_posre.reporters.append(state_rep)"
   ]
  },
  {
   "cell_type": "code",
   "execution_count": 11,
   "metadata": {},
   "outputs": [
    {
     "name": "stdout",
     "output_type": "stream",
     "text": [
      "#\"Step\",\"Potential Energy (kJ/mole)\",\"Temperature (K)\",\"Box Volume (nm^3)\",\"Density (g/mL)\"\n",
      "100,-32505.172768115124,53.44526754110993,20.679574978308164,0.9753715458022438\n",
      "200,-31786.414955615124,98.20438131528641,20.679574978308164,0.9753715458022438\n",
      "300,-31093.008705615124,126.86463203000042,20.679574978308164,0.9753715458022438\n",
      "400,-30649.805580615124,159.25653731686808,20.679574978308164,0.9753715458022438\n",
      "500,-30197.868080615124,181.38491979202982,20.679574978308164,0.9753715458022438\n",
      "600,-29787.391518115124,197.61491367292646,20.679574978308164,0.9753715458022438\n",
      "700,-29335.555580615124,208.429101126481,20.679574978308164,0.9753715458022438\n",
      "800,-29161.680580615124,229.50879053901258,20.679574978308164,0.9753715458022438\n",
      "900,-28873.336830615124,237.36349177187486,20.679574978308164,0.9753715458022438\n",
      "1000,-28557.883705615124,239.21337631801376,20.679574978308164,0.9753715458022438\n"
     ]
    }
   ],
   "source": [
    "nvt_posre.step(1000)"
   ]
  },
  {
   "cell_type": "markdown",
   "metadata": {},
   "source": [
    "#### NPT run\n",
    "Next we run the NPT simulation. First we remove the position restrains from the system, because we have already equilibrated the water."
   ]
  },
  {
   "cell_type": "code",
   "execution_count": 12,
   "metadata": {},
   "outputs": [],
   "source": [
    "nforces = len(system.getForces())\n",
    "system.removeForce(nforces-1)"
   ]
  },
  {
   "cell_type": "markdown",
   "metadata": {},
   "source": [
    "We then grab positions and velocities from the previous simulation."
   ]
  },
  {
   "cell_type": "code",
   "execution_count": 13,
   "metadata": {},
   "outputs": [],
   "source": [
    "state = nvt_posre.context.getState(getPositions=True, \\\n",
    "                    getVelocities=True)"
   ]
  },
  {
   "cell_type": "markdown",
   "metadata": {},
   "source": [
    "For NPT we must define a barostat that keeps control of the pressure."
   ]
  },
  {
   "cell_type": "code",
   "execution_count": 14,
   "metadata": {},
   "outputs": [],
   "source": [
    "barostat = MonteCarloBarostat(1.0*bar, 300.0*kelvin, 25)"
   ]
  },
  {
   "cell_type": "code",
   "execution_count": 15,
   "metadata": {},
   "outputs": [
    {
     "data": {
      "text/plain": [
       "5"
      ]
     },
     "execution_count": 15,
     "metadata": {},
     "output_type": "execute_result"
    }
   ],
   "source": [
    "system.addForce(barostat)"
   ]
  },
  {
   "cell_type": "markdown",
   "metadata": {},
   "source": [
    "The remaining steps are very similar to those in the NVT simulation with position restraints."
   ]
  },
  {
   "cell_type": "code",
   "execution_count": 16,
   "metadata": {},
   "outputs": [],
   "source": [
    "integrator = LangevinIntegrator(300*kelvin, \\\n",
    "                        10/picosecond, \\\n",
    "                        0.002*picoseconds)"
   ]
  },
  {
   "cell_type": "code",
   "execution_count": 17,
   "metadata": {},
   "outputs": [
    {
     "name": "stdout",
     "output_type": "stream",
     "text": [
      "100,-27688.646867753705,289.0632611460894,20.776633597594014,0.9708150706119014\n",
      "200,-27256.141714304802,299.8143416888052,20.832577856753606,0.9682080226373396\n",
      "300,-27248.981906197558,295.4028479202531,20.81908669802052,0.9688354395989727\n",
      "400,-27058.778781197558,289.4380135165073,20.81908669802052,0.9688354395989727\n",
      "500,-26943.196018529386,299.86389814222844,20.812864212847227,0.9691250952704176\n",
      "600,-26790.90702829315,308.35283205168855,20.711700573456202,0.9738586622373125\n",
      "700,-26924.040946583293,305.5213659472505,20.618257401856333,0.9782722477463026\n",
      "800,-26980.119382681936,289.7105601732537,20.32995953480353,0.9921450644599505\n",
      "900,-26783.79649462094,293.50677679219467,20.639462590941164,0.9772671611119728\n",
      "1000,-26958.413407113578,294.28146943002315,20.652013846060587,0.9766732272927153\n"
     ]
    }
   ],
   "source": [
    "npt = Simulation(top.topology, system, \\\n",
    "                        integrator)\n",
    "pdb_rep = PDBReporter('npt.pdb', 1000)\n",
    "nvt_posre.reporters.append(pdb_rep)\n",
    "\n",
    "npt.context.setState(state)\n",
    "npt.reporters.append(state_rep)\n",
    "npt.step(1000)"
   ]
  },
  {
   "cell_type": "markdown",
   "metadata": {},
   "source": [
    "We save the coordinates of the final step in `xml` format."
   ]
  },
  {
   "cell_type": "code",
   "execution_count": 18,
   "metadata": {},
   "outputs": [],
   "source": [
    "npt.saveState(\"npt.xml\")"
   ]
  },
  {
   "cell_type": "markdown",
   "metadata": {},
   "source": [
    "### Production NVT\n",
    "This is the part we are changing here. Instead of simply running a simulation we are generating inputs for two identical runs. Again, we first remove the last force added, in this case the barostat."
   ]
  },
  {
   "cell_type": "code",
   "execution_count": 19,
   "metadata": {},
   "outputs": [],
   "source": [
    "nforces = len(system.getForces())\n",
    "system.removeForce(nforces-1)"
   ]
  },
  {
   "cell_type": "markdown",
   "metadata": {},
   "source": [
    "Here is where things change. We are starting one of the runs from the coordinates corresponding to the `xml` file we saved (`npt.xml`), and the other one from the `State` class object we kept in `npt`. For the former we only need the coordinates of the `xml` file, which we read from `mdtraj`."
   ]
  },
  {
   "cell_type": "code",
   "execution_count": 20,
   "metadata": {},
   "outputs": [],
   "source": [
    "import mdtraj as md\n",
    "traj = md.load_xml(\"npt.xml\", top='alaTB_ff03-star_tip3p_solv.gro')\n",
    "last_frame = traj[-1].xyz[0]"
   ]
  },
  {
   "cell_type": "markdown",
   "metadata": {},
   "source": [
    "Now comes the `multiprocessing` stuff, which is fairly simple. We just need to open a `ThreadPool` for whichever number of processes we want (here it is fixed as the number of processors). Then we prepare the runs using the `prepare_runs` next"
   ]
  },
  {
   "cell_type": "code",
   "execution_count": 21,
   "metadata": {},
   "outputs": [],
   "source": [
    "def prepare_runs(init):\n",
    "    \"\"\"\n",
    "    Prepares runs for OpenMM\n",
    "    \n",
    "    Parameters\n",
    "    ----------\n",
    "    init : list\n",
    "        List containing indexes and npt input for runs.\n",
    "        init[0] : index\n",
    "        init[1] : initial state or configuration\n",
    " \n",
    "    Returns\n",
    "    -------\n",
    "    nvt : \n",
    "        Simulation object with all information to simply be run.\n",
    "    \n",
    "    \"\"\"\n",
    "    ind = init[0]\n",
    "    npt = init[1]\n",
    "    \n",
    "    integrator = LangevinIntegrator(300*kelvin, \\\n",
    "                        10/picosecond, \\\n",
    "                        0.002*picoseconds)\n",
    "    platform = Platform.getPlatformByName('CPU')\n",
    "    \n",
    "    \n",
    "    nvt = Simulation(top.topology, system, \\\n",
    "                        integrator, platform)\n",
    "    \n",
    "    try:\n",
    "        state = npt.context.getState(getPositions=True, \\\n",
    "                    getVelocities=True)   \n",
    "        nvt.context.setState(state)\n",
    "    except AttributeError as e:\n",
    "        nvt.context.setPositions(npt)\n",
    "        nvt.context.setVelocitiesToTemperature(300*kelvin)\n",
    "\n",
    "    dcd_rep = DCDReporter('nvt%i.dcd'%ind, 1000)\n",
    "    nvt.reporters.append(dcd_rep)\n",
    "    state_rep = StateDataReporter(\"nvt%i.txt\"%init[0], 100, \\\n",
    "                step=True, potentialEnergy=True, \\\n",
    "                temperature=True, volume=True, density=True)\n",
    "    nvt.reporters.append(state_rep)\n",
    "\n",
    "    return nvt"
   ]
  },
  {
   "cell_type": "code",
   "execution_count": 22,
   "metadata": {},
   "outputs": [],
   "source": [
    "nproc = mp.cpu_count()"
   ]
  },
  {
   "cell_type": "code",
   "execution_count": 23,
   "metadata": {},
   "outputs": [],
   "source": [
    "tpool = pool.ThreadPool(processes=nproc)\n",
    "mpinput = [(i,x) for i,x in enumerate([npt, npt, last_frame, last_frame])]\n",
    "result = tpool.map(prepare_runs, mpinput)\n",
    "tpool.close()\n",
    "tpool.join()"
   ]
  },
  {
   "cell_type": "markdown",
   "metadata": {},
   "source": [
    "`result` contains the output, which here are two `Simulation` objects that we need to run. Again, this will be done using multiprocessing, and for this we must write a function with one input only."
   ]
  },
  {
   "cell_type": "code",
   "execution_count": 24,
   "metadata": {},
   "outputs": [],
   "source": [
    "def do_run(x):\n",
    "    \"\"\"\n",
    "    Worker for running the simulations\n",
    "    \n",
    "    Parameters:\n",
    "    ----------\n",
    "    x : list\n",
    "    \n",
    "        x[0]: simtk.openmm.app.simulation.Simulation\n",
    "        Simulation object from OpenMM\n",
    "        \n",
    "        x[1]: steps\n",
    "\n",
    "    Returns:\n",
    "    --------\n",
    "    elapsed : float\n",
    "        Elapsed time between beginning and end.\n",
    "    \n",
    "    \"\"\"\n",
    "    sim = x[0]\n",
    "    steps = x[1]\n",
    "    print (sim, steps)\n",
    "    start = timeit.timeit()\n",
    "    sim.step(steps)\n",
    "    end = timeit.timeit()\n",
    "    elapsed = end - start\n",
    "    return elapsed"
   ]
  },
  {
   "cell_type": "code",
   "execution_count": null,
   "metadata": {},
   "outputs": [],
   "source": [
    "tpool = pool.ThreadPool(processes=nproc)\n",
    "elapsed = tpool.map(do_run, list(zip(result, [10000, 10000, 10000,10000])))\n",
    "tpool.close()\n",
    "tpool.join()"
   ]
  },
  {
   "cell_type": "code",
   "execution_count": null,
   "metadata": {},
   "outputs": [],
   "source": [
    "elapsed"
   ]
  },
  {
   "cell_type": "code",
   "execution_count": null,
   "metadata": {},
   "outputs": [],
   "source": []
  }
 ],
 "metadata": {
  "kernelspec": {
   "display_name": "Python 3",
   "language": "python",
   "name": "python3"
  },
  "language_info": {
   "codemirror_mode": {
    "name": "ipython",
    "version": 3
   },
   "file_extension": ".py",
   "mimetype": "text/x-python",
   "name": "python",
   "nbconvert_exporter": "python",
   "pygments_lexer": "ipython3",
   "version": "3.6.5"
  }
 },
 "nbformat": 4,
 "nbformat_minor": 2
}
